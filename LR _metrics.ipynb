{
 "cells": [
  {
   "attachments": {},
   "cell_type": "markdown",
   "metadata": {},
   "source": [
    "# **Regression Metrics**\n",
    "\n",
    "\n",
    "1. **Mean Absolute Error**\n",
    "2. **Mean Squared Error**\n",
    "3. **Root Mean Squared Error**\n",
    "4. **r2 Score**\n",
    "5. **Adjusted r2 Score**"
   ]
  },
  {
   "cell_type": "code",
   "execution_count": 1,
   "metadata": {},
   "outputs": [],
   "source": [
    "import pandas as pd\n",
    "import numpy as np\n",
    "import matplotlib.pyplot as plt\n",
    "from sklearn.model_selection import train_test_split\n",
    "from sklearn.linear_model import LinearRegression\n",
    "from sklearn.metrics import mean_absolute_error, mean_squared_error, r2_score"
   ]
  },
  {
   "cell_type": "code",
   "execution_count": 2,
   "metadata": {},
   "outputs": [],
   "source": [
    "df = pd.read_csv(\"Salary_Data.csv\")"
   ]
  },
  {
   "cell_type": "code",
   "execution_count": 3,
   "metadata": {},
   "outputs": [
    {
     "data": {
      "text/html": [
       "<div>\n",
       "<style scoped>\n",
       "    .dataframe tbody tr th:only-of-type {\n",
       "        vertical-align: middle;\n",
       "    }\n",
       "\n",
       "    .dataframe tbody tr th {\n",
       "        vertical-align: top;\n",
       "    }\n",
       "\n",
       "    .dataframe thead th {\n",
       "        text-align: right;\n",
       "    }\n",
       "</style>\n",
       "<table border=\"1\" class=\"dataframe\">\n",
       "  <thead>\n",
       "    <tr style=\"text-align: right;\">\n",
       "      <th></th>\n",
       "      <th>YearsExperience</th>\n",
       "      <th>Salary</th>\n",
       "    </tr>\n",
       "  </thead>\n",
       "  <tbody>\n",
       "    <tr>\n",
       "      <th>0</th>\n",
       "      <td>1.1</td>\n",
       "      <td>39343.0</td>\n",
       "    </tr>\n",
       "    <tr>\n",
       "      <th>1</th>\n",
       "      <td>1.3</td>\n",
       "      <td>46205.0</td>\n",
       "    </tr>\n",
       "    <tr>\n",
       "      <th>2</th>\n",
       "      <td>1.5</td>\n",
       "      <td>37731.0</td>\n",
       "    </tr>\n",
       "    <tr>\n",
       "      <th>3</th>\n",
       "      <td>2.0</td>\n",
       "      <td>43525.0</td>\n",
       "    </tr>\n",
       "    <tr>\n",
       "      <th>4</th>\n",
       "      <td>2.2</td>\n",
       "      <td>39891.0</td>\n",
       "    </tr>\n",
       "  </tbody>\n",
       "</table>\n",
       "</div>"
      ],
      "text/plain": [
       "   YearsExperience   Salary\n",
       "0              1.1  39343.0\n",
       "1              1.3  46205.0\n",
       "2              1.5  37731.0\n",
       "3              2.0  43525.0\n",
       "4              2.2  39891.0"
      ]
     },
     "execution_count": 3,
     "metadata": {},
     "output_type": "execute_result"
    }
   ],
   "source": [
    "df.head()"
   ]
  },
  {
   "cell_type": "code",
   "execution_count": 4,
   "metadata": {},
   "outputs": [
    {
     "data": {
      "text/plain": [
       "<matplotlib.collections.PathCollection at 0x1d9c7bee9b0>"
      ]
     },
     "execution_count": 4,
     "metadata": {},
     "output_type": "execute_result"
    },
    {
     "data": {
      "image/png": "[encoded data removed]",
      "text/plain": [
       "<Figure size 640x480 with 1 Axes>"
      ]
     },
     "metadata": {},
     "output_type": "display_data"
    }
   ],
   "source": [
    "plt.scatter(x=df[\"YearsExperience\"], y=df[\"Salary\"])"
   ]
  },
  {
   "cell_type": "code",
   "execution_count": 5,
   "metadata": {},
   "outputs": [
    {
     "name": "stdout",
     "output_type": "stream",
     "text": [
      " MAE 4221.046734449738\n",
      " MSE 27102249.73126139\n",
      " RMSE 5205.982110155719\n",
      " R2 0.9645401573418146\n",
      " Adjusted R2 0.9629283463118972 \n",
      "\n"
     ]
    }
   ],
   "source": [
    "target = \"Salary\"\n",
    "features = [\"YearsExperience\"]\n",
    "X = df[features]\n",
    "y = df[target]\n",
    "\n",
    "X_train, X_test, y_train, y_test = train_test_split(X, y, test_size=0.2, random_state=42)\n",
    "model = LinearRegression().fit(X_train, y_train)\n",
    "y_pred_train = model.predict(X_train)\n",
    "print(\" MAE\", mean_absolute_error(y_train, y_pred_train))\n",
    "print(\" MSE\", mean_squared_error(y_train, y_pred_train))\n",
    "print(\" RMSE\", np.sqrt(mean_squared_error(y_train, y_pred_train)))\n",
    "r2_s = r2_score(y_train, y_pred_train)\n",
    "print(\" R2\", r2_s)\n",
    "print(\" Adjusted R2\", (1 - ((1-r2_s)*(X_train.shape[0] - 1)/(X_train.shape[0] - 1 - X_train.shape[1]))), \"\\n\")"
   ]
  },
  {
   "cell_type": "code",
   "execution_count": 6,
   "metadata": {},
   "outputs": [
    {
     "data": {
      "text/html": [
       "<div>\n",
       "<style scoped>\n",
       "    .dataframe tbody tr th:only-of-type {\n",
       "        vertical-align: middle;\n",
       "    }\n",
       "\n",
       "    .dataframe tbody tr th {\n",
       "        vertical-align: top;\n",
       "    }\n",
       "\n",
       "    .dataframe thead th {\n",
       "        text-align: right;\n",
       "    }\n",
       "</style>\n",
       "<table border=\"1\" class=\"dataframe\">\n",
       "  <thead>\n",
       "    <tr style=\"text-align: right;\">\n",
       "      <th></th>\n",
       "      <th>YearsExperience</th>\n",
       "      <th>Random_Feat</th>\n",
       "      <th>Salary</th>\n",
       "    </tr>\n",
       "  </thead>\n",
       "  <tbody>\n",
       "    <tr>\n",
       "      <th>0</th>\n",
       "      <td>1.1</td>\n",
       "      <td>0.704127</td>\n",
       "      <td>39343.0</td>\n",
       "    </tr>\n",
       "    <tr>\n",
       "      <th>1</th>\n",
       "      <td>1.3</td>\n",
       "      <td>0.827291</td>\n",
       "      <td>46205.0</td>\n",
       "    </tr>\n",
       "    <tr>\n",
       "      <th>2</th>\n",
       "      <td>1.5</td>\n",
       "      <td>0.103716</td>\n",
       "      <td>37731.0</td>\n",
       "    </tr>\n",
       "    <tr>\n",
       "      <th>3</th>\n",
       "      <td>2.0</td>\n",
       "      <td>0.596338</td>\n",
       "      <td>43525.0</td>\n",
       "    </tr>\n",
       "    <tr>\n",
       "      <th>4</th>\n",
       "      <td>2.2</td>\n",
       "      <td>0.674213</td>\n",
       "      <td>39891.0</td>\n",
       "    </tr>\n",
       "  </tbody>\n",
       "</table>\n",
       "</div>"
      ],
      "text/plain": [
       "   YearsExperience  Random_Feat   Salary\n",
       "0              1.1     0.704127  39343.0\n",
       "1              1.3     0.827291  46205.0\n",
       "2              1.5     0.103716  37731.0\n",
       "3              2.0     0.596338  43525.0\n",
       "4              2.2     0.674213  39891.0"
      ]
     },
     "execution_count": 6,
     "metadata": {},
     "output_type": "execute_result"
    }
   ],
   "source": [
    "df1 = df.copy()\n",
    "df1[\"Random_Feat\"] = np.random.random(30)\n",
    "new_df1 = df1[[\"YearsExperience\", \"Random_Feat\", \"Salary\"]]\n",
    "new_df1.head()"
   ]
  },
  {
   "cell_type": "code",
   "execution_count": 7,
   "metadata": {},
   "outputs": [
    {
     "data": {
      "text/plain": [
       "<matplotlib.collections.PathCollection at 0x1d9ca02edd0>"
      ]
     },
     "execution_count": 7,
     "metadata": {},
     "output_type": "execute_result"
    },
    {
     "data": {
      "image/png": "[encoded data removed]",
      "text/plain": [
       "<Figure size 640x480 with 1 Axes>"
      ]
     },
     "metadata": {},
     "output_type": "display_data"
    }
   ],
   "source": [
    "plt.scatter(x=df1[\"Random_Feat\"], y=df1[\"Salary\"])"
   ]
  },
  {
   "cell_type": "code",
   "execution_count": 8,
   "metadata": {},
   "outputs": [
    {
     "name": "stdout",
     "output_type": "stream",
     "text": [
      "1 MAE 4099.89387327376\n",
      "1 MSE 26700295.91481827\n",
      "1 RMSE 5167.232906964642\n",
      "1 R2 0.9650660627270967\n",
      "1 Adjusted R2 0.9617390210820583 \n",
      "\n"
     ]
    }
   ],
   "source": [
    "X1 = new_df1.iloc[:, 0:2]\n",
    "y1 = new_df1.iloc[:,2] \n",
    "\n",
    "X1_train, X1_test, y1_train, y1_test = train_test_split(X1, y1, test_size=0.2, random_state=42)\n",
    "model1 = LinearRegression().fit(X1_train, y1_train)\n",
    "y1_pred_train = model1.predict(X1_train)\n",
    "print(\"1 MAE\", mean_absolute_error(y1_train, y1_pred_train))\n",
    "print(\"1 MSE\", mean_squared_error(y1_train, y1_pred_train))\n",
    "print(\"1 RMSE\", np.sqrt(mean_squared_error(y1_train, y1_pred_train)))\n",
    "r2_s1 = r2_score(y1_train, y1_pred_train)\n",
    "print(\"1 R2\", r2_s1)\n",
    "print(\"1 Adjusted R2\", (1 - ((1-r2_s1)*(X1_train.shape[0] - 1)/(X1_train.shape[0] - 1 - X1_train.shape[1]))), \"\\n\")\n"
   ]
  },
  {
   "cell_type": "code",
   "execution_count": 9,
   "metadata": {},
   "outputs": [
    {
     "data": {
      "text/html": [
       "<div>\n",
       "<style scoped>\n",
       "    .dataframe tbody tr th:only-of-type {\n",
       "        vertical-align: middle;\n",
       "    }\n",
       "\n",
       "    .dataframe tbody tr th {\n",
       "        vertical-align: top;\n",
       "    }\n",
       "\n",
       "    .dataframe thead th {\n",
       "        text-align: right;\n",
       "    }\n",
       "</style>\n",
       "<table border=\"1\" class=\"dataframe\">\n",
       "  <thead>\n",
       "    <tr style=\"text-align: right;\">\n",
       "      <th></th>\n",
       "      <th>YearsExperience</th>\n",
       "      <th>iq</th>\n",
       "      <th>Salary</th>\n",
       "    </tr>\n",
       "  </thead>\n",
       "  <tbody>\n",
       "    <tr>\n",
       "      <th>0</th>\n",
       "      <td>1.1</td>\n",
       "      <td>5.466946</td>\n",
       "      <td>39343.0</td>\n",
       "    </tr>\n",
       "    <tr>\n",
       "      <th>1</th>\n",
       "      <td>1.3</td>\n",
       "      <td>5.583983</td>\n",
       "      <td>46205.0</td>\n",
       "    </tr>\n",
       "    <tr>\n",
       "      <th>2</th>\n",
       "      <td>1.5</td>\n",
       "      <td>8.168101</td>\n",
       "      <td>37731.0</td>\n",
       "    </tr>\n",
       "    <tr>\n",
       "      <th>3</th>\n",
       "      <td>2.0</td>\n",
       "      <td>10.507158</td>\n",
       "      <td>43525.0</td>\n",
       "    </tr>\n",
       "    <tr>\n",
       "      <th>4</th>\n",
       "      <td>2.2</td>\n",
       "      <td>8.638360</td>\n",
       "      <td>39891.0</td>\n",
       "    </tr>\n",
       "  </tbody>\n",
       "</table>\n",
       "</div>"
      ],
      "text/plain": [
       "   YearsExperience         iq   Salary\n",
       "0              1.1   5.466946  39343.0\n",
       "1              1.3   5.583983  46205.0\n",
       "2              1.5   8.168101  37731.0\n",
       "3              2.0  10.507158  43525.0\n",
       "4              2.2   8.638360  39891.0"
      ]
     },
     "execution_count": 9,
     "metadata": {},
     "output_type": "execute_result"
    }
   ],
   "source": [
    "df2 = df.copy()\n",
    "df2[\"iq\"] = df2[\"YearsExperience\"] + np.random.uniform(2, 11, 30)\n",
    "new_df2 = df2[[\"YearsExperience\", \"iq\", \"Salary\"]]\n",
    "new_df2.head()"
   ]
  },
  {
   "cell_type": "code",
   "execution_count": 10,
   "metadata": {},
   "outputs": [
    {
     "data": {
      "text/plain": [
       "<matplotlib.collections.PathCollection at 0x1d9ca0a7cd0>"
      ]
     },
     "execution_count": 10,
     "metadata": {},
     "output_type": "execute_result"
    },
    {
     "data": {
      "image/png": "[encoded data removed]",
      "text/plain": [
       "<Figure size 640x480 with 1 Axes>"
      ]
     },
     "metadata": {},
     "output_type": "display_data"
    }
   ],
   "source": [
    "plt.scatter(x=new_df2[\"iq\"], y=new_df2[\"Salary\"])"
   ]
  },
  {
   "cell_type": "code",
   "execution_count": 11,
   "metadata": {},
   "outputs": [
    {
     "name": "stdout",
     "output_type": "stream",
     "text": [
      "2 MAE 4110.904679383449\n",
      "2 MSE 25479956.705830414\n",
      "2 RMSE 5047.767497204127\n",
      "2 R2 0.9666627211879038\n",
      "2 Adjusted R2 0.9634877422534184 \n",
      "\n"
     ]
    }
   ],
   "source": [
    "X2 = new_df2.iloc[:, 0:2]\n",
    "y2 = new_df2.iloc[:, -1]\n",
    "\n",
    "X2_train, X2_test, y2_train, y2_test = train_test_split(X2, y2, test_size=0.2, random_state=42)\n",
    "model2 = LinearRegression().fit(X2_train, y2_train)\n",
    "y2_pred_train = model2.predict(X2_train)\n",
    "print(\"2 MAE\", mean_absolute_error(y2_train, y2_pred_train))\n",
    "print(\"2 MSE\", mean_squared_error(y2_train, y2_pred_train))\n",
    "print(\"2 RMSE\", np.sqrt(mean_squared_error(y2_train, y2_pred_train)))\n",
    "r2_s2 = r2_score(y2_train, y2_pred_train)\n",
    "print(\"2 R2\", r2_s2)\n",
    "print(\"2 Adjusted R2\", (1 - ((1-r2_s2)*(X2_train.shape[0] - 1)/(X2_train.shape[0] - 1 - X2_train.shape[1]))), \"\\n\")"
   ]
  },
  {
   "cell_type": "code",
   "execution_count": 12,
   "metadata": {},
   "outputs": [
    {
     "name": "stdout",
     "output_type": "stream",
     "text": [
      " MAE 4221.046734449738\n",
      " MSE 27102249.73126139\n",
      " RMSE 5205.982110155719\n",
      " R2 0.9645401573418146\n",
      " Adjusted R2 0.9629283463118972 \n",
      "\n",
      "1 MAE 4099.89387327376\n",
      "1 MSE 26700295.91481827\n",
      "1 RMSE 5167.232906964642\n",
      "1 R2 0.9650660627270967\n",
      "1 Adjusted R2 0.9617390210820583 \n",
      "\n",
      "2 MAE 4110.904679383449\n",
      "2 MSE 25479956.705830414\n",
      "2 RMSE 5047.767497204127\n",
      "2 R2 0.9666627211879038\n",
      "2 Adjusted R2 0.9634877422534184 \n",
      "\n"
     ]
    }
   ],
   "source": [
    "print(\" MAE\", mean_absolute_error(y_train, y_pred_train))\n",
    "print(\" MSE\", mean_squared_error(y_train, y_pred_train))\n",
    "print(\" RMSE\", np.sqrt(mean_squared_error(y_train, y_pred_train)))\n",
    "r2_s = r2_score(y_train, y_pred_train)\n",
    "print(\" R2\", r2_s)\n",
    "ad_r2 = (1 - ((1-r2_s)*(X_train.shape[0] - 1)/(X_train.shape[0] - 1 - X_train.shape[1])))\n",
    "print(\" Adjusted R2\", ad_r2, \"\\n\")\n",
    "\n",
    "print(\"1 MAE\", mean_absolute_error(y1_train, y1_pred_train))\n",
    "print(\"1 MSE\", mean_squared_error(y1_train, y1_pred_train))\n",
    "print(\"1 RMSE\", np.sqrt(mean_squared_error(y1_train, y1_pred_train)))\n",
    "r2_s1 = r2_score(y1_train, y1_pred_train)\n",
    "print(\"1 R2\", r2_s1)\n",
    "ad1_r2 = (1 - ((1-r2_s1)*(X1_train.shape[0] - 1)/(X1_train.shape[0] - 1 - X1_train.shape[1])))\n",
    "print(\"1 Adjusted R2\", ad1_r2, \"\\n\")\n",
    "\n",
    "print(\"2 MAE\", mean_absolute_error(y2_train, y2_pred_train))\n",
    "print(\"2 MSE\", mean_squared_error(y2_train, y2_pred_train))\n",
    "print(\"2 RMSE\", np.sqrt(mean_squared_error(y2_train, y2_pred_train)))\n",
    "r2_s2 = r2_score(y2_train, y2_pred_train)\n",
    "print(\"2 R2\", r2_s2)\n",
    "ad2_r2 = (1 - ((1-r2_s2)*(X2_train.shape[0] - 1)/(X2_train.shape[0] - 1 - X2_train.shape[1])))\n",
    "print(\"2 Adjusted R2\", ad2_r2, \"\\n\")"
   ]
  },
  {
   "cell_type": "code",
   "execution_count": 13,
   "metadata": {},
   "outputs": [
    {
     "data": {
      "text/html": [
       "<div>\n",
       "<style scoped>\n",
       "    .dataframe tbody tr th:only-of-type {\n",
       "        vertical-align: middle;\n",
       "    }\n",
       "\n",
       "    .dataframe tbody tr th {\n",
       "        vertical-align: top;\n",
       "    }\n",
       "\n",
       "    .dataframe thead th {\n",
       "        text-align: right;\n",
       "    }\n",
       "</style>\n",
       "<table border=\"1\" class=\"dataframe\">\n",
       "  <thead>\n",
       "    <tr style=\"text-align: right;\">\n",
       "      <th></th>\n",
       "      <th>MAE</th>\n",
       "      <th>MSE</th>\n",
       "      <th>RMSE</th>\n",
       "      <th>R2 Score</th>\n",
       "      <th>Adjusted R2</th>\n",
       "    </tr>\n",
       "  </thead>\n",
       "  <tbody>\n",
       "    <tr>\n",
       "      <th>df</th>\n",
       "      <td>4221.046734</td>\n",
       "      <td>2.710225e+07</td>\n",
       "      <td>5205.982110</td>\n",
       "      <td>0.964540</td>\n",
       "      <td>0.962928</td>\n",
       "    </tr>\n",
       "    <tr>\n",
       "      <th>df1</th>\n",
       "      <td>4099.893873</td>\n",
       "      <td>2.670030e+07</td>\n",
       "      <td>5167.232907</td>\n",
       "      <td>0.965066</td>\n",
       "      <td>0.961739</td>\n",
       "    </tr>\n",
       "    <tr>\n",
       "      <th>df2</th>\n",
       "      <td>4110.904679</td>\n",
       "      <td>2.547996e+07</td>\n",
       "      <td>5047.767497</td>\n",
       "      <td>0.966663</td>\n",
       "      <td>0.963488</td>\n",
       "    </tr>\n",
       "  </tbody>\n",
       "</table>\n",
       "</div>"
      ],
      "text/plain": [
       "             MAE           MSE         RMSE  R2 Score  Adjusted R2\n",
       "df   4221.046734  2.710225e+07  5205.982110  0.964540     0.962928\n",
       "df1  4099.893873  2.670030e+07  5167.232907  0.965066     0.961739\n",
       "df2  4110.904679  2.547996e+07  5047.767497  0.966663     0.963488"
      ]
     },
     "execution_count": 13,
     "metadata": {},
     "output_type": "execute_result"
    }
   ],
   "source": [
    "Error_df = pd.DataFrame({\"MAE\":{\"df\" :mean_absolute_error(y_train, y_pred_train), \n",
    "                                \"df1\":mean_absolute_error(y1_train, y1_pred_train), \n",
    "                                \"df2\":mean_absolute_error(y2_train, y2_pred_train)\n",
    "                                },\n",
    "                        \"MSE\" : {\"df\":mean_squared_error(y_train, y_pred_train),\n",
    "                                 \"df1\":mean_squared_error(y1_train, y1_pred_train),\n",
    "                                 \"df2\":mean_squared_error(y2_train, y2_pred_train)\n",
    "                                 },\n",
    "                        \"RMSE\": {\"df\":np.sqrt(mean_squared_error(y_train, y_pred_train)),\n",
    "                                 \"df1\":np.sqrt(mean_squared_error(y1_train, y1_pred_train)),\n",
    "                                 \"df2\":np.sqrt(mean_squared_error(y2_train, y2_pred_train)) \n",
    "                                 }, \n",
    "                        \"R2 Score\": {\"df\":r2_s,\n",
    "                                     \"df1\":r2_s1,\n",
    "                                     \"df2\":r2_s2\n",
    "                                     },\n",
    "                        \"Adjusted R2\": {\"df\":ad_r2,\n",
    "                                       \"df1\":ad1_r2,\n",
    "                                       \"df2\":ad2_r2}\n",
    "                        })\n",
    "Error_df"
   ]
  }
 ],
 "metadata": {
  "kernelspec": {
   "display_name": "Python 3",
   "language": "python",
   "name": "python3"
  },
  "language_info": {
   "codemirror_mode": {
    "name": "ipython",
    "version": 3
   },
   "file_extension": ".py",
   "mimetype": "text/x-python",
   "name": "python",
   "nbconvert_exporter": "python",
   "pygments_lexer": "ipython3",
   "version": "3.10.9"
  },
  "orig_nbformat": 4
 },
 "nbformat": 4,
 "nbformat_minor": 2
}
