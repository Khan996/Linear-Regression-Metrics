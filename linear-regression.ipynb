{
 "cells": [
  {
   "cell_type": "code",
   "execution_count": 105,
   "id": "2a634f20",
   "metadata": {
    "_cell_guid": "b1076dfc-b9ad-4769-8c92-a6c4dae69d19",
    "_uuid": "8f2839f25d086af736a60e9eeb907d3b93b6e0e5",
    "execution": {
     "iopub.execute_input": "2023-02-12T07:51:34.799454Z",
     "iopub.status.busy": "2023-02-12T07:51:34.798669Z",
     "iopub.status.idle": "2023-02-12T07:51:36.064400Z",
     "shell.execute_reply": "2023-02-12T07:51:36.063200Z"
    },
    "papermill": {
     "duration": 1.277494,
     "end_time": "2023-02-12T07:51:36.067263",
     "exception": false,
     "start_time": "2023-02-12T07:51:34.789769",
     "status": "completed"
    },
    "tags": []
   },
   "outputs": [],
   "source": [
    "import pandas as pd \n",
    "import matplotlib.pyplot as plt\n",
    "from sklearn.model_selection import train_test_split\n",
    "from sklearn.metrics import mean_absolute_error, r2_score\n",
    "from sklearn.linear_model import LinearRegression"
   ]
  },
  {
   "cell_type": "code",
   "execution_count": 45,
   "id": "c2aff22d",
   "metadata": {
    "execution": {
     "iopub.execute_input": "2023-02-12T07:51:36.080993Z",
     "iopub.status.busy": "2023-02-12T07:51:36.080600Z",
     "iopub.status.idle": "2023-02-12T07:51:36.117033Z",
     "shell.execute_reply": "2023-02-12T07:51:36.115780Z"
    },
    "papermill": {
     "duration": 0.046291,
     "end_time": "2023-02-12T07:51:36.119618",
     "exception": false,
     "start_time": "2023-02-12T07:51:36.073327",
     "status": "completed"
    },
    "tags": []
   },
   "outputs": [
    {
     "data": {
      "text/html": [
       "<div>\n",
       "<style scoped>\n",
       "    .dataframe tbody tr th:only-of-type {\n",
       "        vertical-align: middle;\n",
       "    }\n",
       "\n",
       "    .dataframe tbody tr th {\n",
       "        vertical-align: top;\n",
       "    }\n",
       "\n",
       "    .dataframe thead th {\n",
       "        text-align: right;\n",
       "    }\n",
       "</style>\n",
       "<table border=\"1\" class=\"dataframe\">\n",
       "  <thead>\n",
       "    <tr style=\"text-align: right;\">\n",
       "      <th></th>\n",
       "      <th>YearsExperience</th>\n",
       "      <th>Salary</th>\n",
       "    </tr>\n",
       "  </thead>\n",
       "  <tbody>\n",
       "    <tr>\n",
       "      <th>0</th>\n",
       "      <td>1.1</td>\n",
       "      <td>39343.0</td>\n",
       "    </tr>\n",
       "    <tr>\n",
       "      <th>1</th>\n",
       "      <td>1.3</td>\n",
       "      <td>46205.0</td>\n",
       "    </tr>\n",
       "    <tr>\n",
       "      <th>2</th>\n",
       "      <td>1.5</td>\n",
       "      <td>37731.0</td>\n",
       "    </tr>\n",
       "    <tr>\n",
       "      <th>3</th>\n",
       "      <td>2.0</td>\n",
       "      <td>43525.0</td>\n",
       "    </tr>\n",
       "    <tr>\n",
       "      <th>4</th>\n",
       "      <td>2.2</td>\n",
       "      <td>39891.0</td>\n",
       "    </tr>\n",
       "  </tbody>\n",
       "</table>\n",
       "</div>"
      ],
      "text/plain": [
       "   YearsExperience   Salary\n",
       "0              1.1  39343.0\n",
       "1              1.3  46205.0\n",
       "2              1.5  37731.0\n",
       "3              2.0  43525.0\n",
       "4              2.2  39891.0"
      ]
     },
     "execution_count": 45,
     "metadata": {},
     "output_type": "execute_result"
    }
   ],
   "source": [
    "df = pd.read_csv(\"Salary_Data.csv\")\n",
    "df.head()"
   ]
  },
  {
   "cell_type": "markdown",
   "id": "5c8a9e5b",
   "metadata": {
    "papermill": {
     "duration": 0.005874,
     "end_time": "2023-02-12T07:51:36.132251",
     "exception": false,
     "start_time": "2023-02-12T07:51:36.126377",
     "status": "completed"
    },
    "tags": []
   },
   "source": [
    "## Splitting Data"
   ]
  },
  {
   "cell_type": "code",
   "execution_count": 64,
   "id": "c7bbb87a",
   "metadata": {
    "execution": {
     "iopub.execute_input": "2023-02-12T07:51:36.147514Z",
     "iopub.status.busy": "2023-02-12T07:51:36.146370Z",
     "iopub.status.idle": "2023-02-12T07:51:36.161257Z",
     "shell.execute_reply": "2023-02-12T07:51:36.160330Z"
    },
    "papermill": {
     "duration": 0.025322,
     "end_time": "2023-02-12T07:51:36.163938",
     "exception": false,
     "start_time": "2023-02-12T07:51:36.138616",
     "status": "completed"
    },
    "tags": []
   },
   "outputs": [],
   "source": [
    "# Vertical Split\n",
    "features = [\"YearsExperience\"]\n",
    "X = df[features]\n",
    "target = \"Salary\"\n",
    "y = df[target]\n",
    "\n",
    "# Horizontal Split\n",
    "X_train, X_test, y_train, y_test = train_test_split(X, y, test_size=0.2, random_state=2)"
   ]
  },
  {
   "cell_type": "markdown",
   "id": "62f0e15f",
   "metadata": {
    "papermill": {
     "duration": 0.005778,
     "end_time": "2023-02-12T07:51:36.175858",
     "exception": false,
     "start_time": "2023-02-12T07:51:36.170080",
     "status": "completed"
    },
    "tags": []
   },
   "source": [
    "## Plot of Experience vs Salary"
   ]
  },
  {
   "cell_type": "code",
   "execution_count": 65,
   "id": "97c489b3",
   "metadata": {
    "execution": {
     "iopub.execute_input": "2023-02-12T07:51:36.190190Z",
     "iopub.status.busy": "2023-02-12T07:51:36.189499Z",
     "iopub.status.idle": "2023-02-12T07:51:36.426773Z",
     "shell.execute_reply": "2023-02-12T07:51:36.425886Z"
    },
    "papermill": {
     "duration": 0.247082,
     "end_time": "2023-02-12T07:51:36.429033",
     "exception": false,
     "start_time": "2023-02-12T07:51:36.181951",
     "status": "completed"
    },
    "tags": []
   },
   "outputs": [
    {
     "data": {
      "image/png": "[encoded data removed]",
      "text/plain": [
       "<Figure size 640x480 with 1 Axes>"
      ]
     },
     "metadata": {},
     "output_type": "display_data"
    }
   ],
   "source": [
    "plt.scatter(X, y)\n",
    "plt.xlabel(\"Years\")\n",
    "plt.ylabel(\"Salary\")\n",
    "plt.title(\"Salary Data\");"
   ]
  },
  {
   "cell_type": "markdown",
   "id": "46fbac3a",
   "metadata": {
    "papermill": {
     "duration": 0.006029,
     "end_time": "2023-02-12T07:51:36.441502",
     "exception": false,
     "start_time": "2023-02-12T07:51:36.435473",
     "status": "completed"
    },
    "tags": []
   },
   "source": [
    "## Build Model"
   ]
  },
  {
   "cell_type": "code",
   "execution_count": 66,
   "id": "7f1269d4",
   "metadata": {
    "execution": {
     "iopub.execute_input": "2023-02-12T07:51:36.456181Z",
     "iopub.status.busy": "2023-02-12T07:51:36.455522Z",
     "iopub.status.idle": "2023-02-12T07:51:36.464574Z",
     "shell.execute_reply": "2023-02-12T07:51:36.462878Z"
    },
    "papermill": {
     "duration": 0.019997,
     "end_time": "2023-02-12T07:51:36.467730",
     "exception": false,
     "start_time": "2023-02-12T07:51:36.447733",
     "status": "completed"
    },
    "tags": []
   },
   "outputs": [
    {
     "name": "stdout",
     "output_type": "stream",
     "text": [
      "Mean error :  78501.21\n",
      "Baseline error iteration:  [78501.20833333333, 78501.20833333333, 78501.20833333333, 78501.20833333333, 78501.20833333333]\n",
      "MAE Baseline:  24722.48\n",
      "MAE Baseline Error:  [24722.48, 24722.48, 24722.48, 24722.48, 24722.48]\n"
     ]
    }
   ],
   "source": [
    "# Baseline Error\n",
    "y_mean = y_train.mean()\n",
    "print(\"Mean error : \", round(y_mean, 2))\n",
    "y_pred_baseline = [y_mean] * len(y_train)\n",
    "print(\"Baseline error iteration: \", y_pred_baseline[:5])\n",
    "mae_baseline = mean_absolute_error(y_train, y_pred_baseline)\n",
    "print(\"MAE Baseline: \", round(mae_baseline, 2))\n",
    "mae_error = [round(mae_baseline, 2)] * len(y_train)\n",
    "print(\"MAE Baseline Error: \", mae_error[:5])"
   ]
  },
  {
   "cell_type": "markdown",
   "id": "db9c87d3",
   "metadata": {
    "papermill": {
     "duration": 0.006131,
     "end_time": "2023-02-12T07:51:36.480700",
     "exception": false,
     "start_time": "2023-02-12T07:51:36.474569",
     "status": "completed"
    },
    "tags": []
   },
   "source": [
    "### Scatter Plot with Baseline Model"
   ]
  },
  {
   "cell_type": "code",
   "execution_count": 67,
   "id": "e583d2b2",
   "metadata": {
    "execution": {
     "iopub.execute_input": "2023-02-12T07:51:36.496356Z",
     "iopub.status.busy": "2023-02-12T07:51:36.495561Z",
     "iopub.status.idle": "2023-02-12T07:51:36.701582Z",
     "shell.execute_reply": "2023-02-12T07:51:36.700261Z"
    },
    "papermill": {
     "duration": 0.216987,
     "end_time": "2023-02-12T07:51:36.704138",
     "exception": false,
     "start_time": "2023-02-12T07:51:36.487151",
     "status": "completed"
    },
    "tags": []
   },
   "outputs": [
    {
     "data": {
      "image/png": "[encoded data removed]",
      "text/plain": [
       "<Figure size 640x480 with 1 Axes>"
      ]
     },
     "metadata": {},
     "output_type": "display_data"
    }
   ],
   "source": [
    "plt.scatter(X_train, y_train)\n",
    "plt.plot(X_train, y_pred_baseline, color=\"red\", label=\"Baseline Model\")\n",
    "plt.plot(X_train, mae_error, color=\"green\", label=\"MAE Baseline Model\")\n",
    "plt.xlabel(\"Years\")\n",
    "plt.ylabel(\"Salary\")\n",
    "plt.legend()\n",
    "plt.title(\"Salary Data [Training]\");"
   ]
  },
  {
   "attachments": {},
   "cell_type": "markdown",
   "id": "fbc6dff8",
   "metadata": {
    "papermill": {
     "duration": 0.006497,
     "end_time": "2023-02-12T07:51:36.717358",
     "exception": false,
     "start_time": "2023-02-12T07:51:36.710861",
     "status": "completed"
    },
    "tags": []
   },
   "source": [
    "## Model Instantiation & Fitting"
   ]
  },
  {
   "cell_type": "code",
   "execution_count": 68,
   "id": "96acaddd",
   "metadata": {
    "execution": {
     "iopub.execute_input": "2023-02-12T07:51:36.732518Z",
     "iopub.status.busy": "2023-02-12T07:51:36.732093Z",
     "iopub.status.idle": "2023-02-12T07:51:36.759110Z",
     "shell.execute_reply": "2023-02-12T07:51:36.757863Z"
    },
    "papermill": {
     "duration": 0.037528,
     "end_time": "2023-02-12T07:51:36.761638",
     "exception": false,
     "start_time": "2023-02-12T07:51:36.724110",
     "status": "completed"
    },
    "tags": []
   },
   "outputs": [
    {
     "data": {
      "text/html": [
       "<style>#sk-container-id-3 {color: black;background-color: white;}#sk-container-id-3 pre{padding: 0;}#sk-container-id-3 div.sk-toggleable {background-color: white;}#sk-container-id-3 label.sk-toggleable__label {cursor: pointer;display: block;width: 100%;margin-bottom: 0;padding: 0.3em;box-sizing: border-box;text-align: center;}#sk-container-id-3 label.sk-toggleable__label-arrow:before {content: \"▸\";float: left;margin-right: 0.25em;color: #696969;}#sk-container-id-3 label.sk-toggleable__label-arrow:hover:before {color: black;}#sk-container-id-3 div.sk-estimator:hover label.sk-toggleable__label-arrow:before {color: black;}#sk-container-id-3 div.sk-toggleable__content {max-height: 0;max-width: 0;overflow: hidden;text-align: left;background-color: #f0f8ff;}#sk-container-id-3 div.sk-toggleable__content pre {margin: 0.2em;color: black;border-radius: 0.25em;background-color: #f0f8ff;}#sk-container-id-3 input.sk-toggleable__control:checked~div.sk-toggleable__content {max-height: 200px;max-width: 100%;overflow: auto;}#sk-container-id-3 input.sk-toggleable__control:checked~label.sk-toggleable__label-arrow:before {content: \"▾\";}#sk-container-id-3 div.sk-estimator input.sk-toggleable__control:checked~label.sk-toggleable__label {background-color: #d4ebff;}#sk-container-id-3 div.sk-label input.sk-toggleable__control:checked~label.sk-toggleable__label {background-color: #d4ebff;}#sk-container-id-3 input.sk-hidden--visually {border: 0;clip: rect(1px 1px 1px 1px);clip: rect(1px, 1px, 1px, 1px);height: 1px;margin: -1px;overflow: hidden;padding: 0;position: absolute;width: 1px;}#sk-container-id-3 div.sk-estimator {font-family: monospace;background-color: #f0f8ff;border: 1px dotted black;border-radius: 0.25em;box-sizing: border-box;margin-bottom: 0.5em;}#sk-container-id-3 div.sk-estimator:hover {background-color: #d4ebff;}#sk-container-id-3 div.sk-parallel-item::after {content: \"\";width: 100%;border-bottom: 1px solid gray;flex-grow: 1;}#sk-container-id-3 div.sk-label:hover label.sk-toggleable__label {background-color: #d4ebff;}#sk-container-id-3 div.sk-serial::before {content: \"\";position: absolute;border-left: 1px solid gray;box-sizing: border-box;top: 0;bottom: 0;left: 50%;z-index: 0;}#sk-container-id-3 div.sk-serial {display: flex;flex-direction: column;align-items: center;background-color: white;padding-right: 0.2em;padding-left: 0.2em;position: relative;}#sk-container-id-3 div.sk-item {position: relative;z-index: 1;}#sk-container-id-3 div.sk-parallel {display: flex;align-items: stretch;justify-content: center;background-color: white;position: relative;}#sk-container-id-3 div.sk-item::before, #sk-container-id-3 div.sk-parallel-item::before {content: \"\";position: absolute;border-left: 1px solid gray;box-sizing: border-box;top: 0;bottom: 0;left: 50%;z-index: -1;}#sk-container-id-3 div.sk-parallel-item {display: flex;flex-direction: column;z-index: 1;position: relative;background-color: white;}#sk-container-id-3 div.sk-parallel-item:first-child::after {align-self: flex-end;width: 50%;}#sk-container-id-3 div.sk-parallel-item:last-child::after {align-self: flex-start;width: 50%;}#sk-container-id-3 div.sk-parallel-item:only-child::after {width: 0;}#sk-container-id-3 div.sk-dashed-wrapped {border: 1px dashed gray;margin: 0 0.4em 0.5em 0.4em;box-sizing: border-box;padding-bottom: 0.4em;background-color: white;}#sk-container-id-3 div.sk-label label {font-family: monospace;font-weight: bold;display: inline-block;line-height: 1.2em;}#sk-container-id-3 div.sk-label-container {text-align: center;}#sk-container-id-3 div.sk-container {/* jupyter's `normalize.less` sets `[hidden] { display: none; }` but bootstrap.min.css set `[hidden] { display: none !important; }` so we also need the `!important` here to be able to override the default hidden behavior on the sphinx rendered scikit-learn.org. See: https://github.com/scikit-learn/scikit-learn/issues/21755 */display: inline-block !important;position: relative;}#sk-container-id-3 div.sk-text-repr-fallback {display: none;}</style><div id=\"sk-container-id-3\" class=\"sk-top-container\"><div class=\"sk-text-repr-fallback\"><pre>LinearRegression()</pre><b>In a Jupyter environment, please rerun this cell to show the HTML representation or trust the notebook. <br />On GitHub, the HTML representation is unable to render, please try loading this page with nbviewer.org.</b></div><div class=\"sk-container\" hidden><div class=\"sk-item\"><div class=\"sk-estimator sk-toggleable\"><input class=\"sk-toggleable__control sk-hidden--visually\" id=\"sk-estimator-id-3\" type=\"checkbox\" checked><label for=\"sk-estimator-id-3\" class=\"sk-toggleable__label sk-toggleable__label-arrow\">LinearRegression</label><div class=\"sk-toggleable__content\"><pre>LinearRegression()</pre></div></div></div></div></div>"
      ],
      "text/plain": [
       "LinearRegression()"
      ]
     },
     "execution_count": 68,
     "metadata": {},
     "output_type": "execute_result"
    }
   ],
   "source": [
    "# Instantiation and Training a model\n",
    "model = LinearRegression().fit(X_train, y_train)\n",
    "model "
   ]
  },
  {
   "cell_type": "markdown",
   "id": "c664d5a4",
   "metadata": {
    "papermill": {
     "duration": 0.006486,
     "end_time": "2023-02-12T07:51:36.775273",
     "exception": false,
     "start_time": "2023-02-12T07:51:36.768787",
     "status": "completed"
    },
    "tags": []
   },
   "source": [
    "### Model Performance"
   ]
  },
  {
   "cell_type": "code",
   "execution_count": 69,
   "id": "272c06a9",
   "metadata": {
    "execution": {
     "iopub.execute_input": "2023-02-12T07:51:36.792071Z",
     "iopub.status.busy": "2023-02-12T07:51:36.791608Z",
     "iopub.status.idle": "2023-02-12T07:51:36.801559Z",
     "shell.execute_reply": "2023-02-12T07:51:36.799959Z"
    },
    "papermill": {
     "duration": 0.020844,
     "end_time": "2023-02-12T07:51:36.804254",
     "exception": false,
     "start_time": "2023-02-12T07:51:36.783410",
     "status": "completed"
    },
    "tags": []
   },
   "outputs": [
    {
     "name": "stdout",
     "output_type": "stream",
     "text": [
      "Prediction after model:  [102863.7816125   53101.92980825  43532.34292281]\n",
      "MAE after prediciton:  4078.26\n"
     ]
    }
   ],
   "source": [
    "# Evaluation based on prediciton\n",
    "y_pred = model.predict(X_train)\n",
    "print(\"Prediction after model: \", y_pred[:3])\n",
    "mae_pred = mean_absolute_error(y_train, y_pred)\n",
    "print(\"MAE after prediciton: \", round(mae_pred, 2))\n"
   ]
  },
  {
   "cell_type": "markdown",
   "id": "c4011f61",
   "metadata": {
    "papermill": {
     "duration": 0.006524,
     "end_time": "2023-02-12T07:51:36.817629",
     "exception": false,
     "start_time": "2023-02-12T07:51:36.811105",
     "status": "completed"
    },
    "tags": []
   },
   "source": [
    "#### Extract Intercept"
   ]
  },
  {
   "cell_type": "code",
   "execution_count": 70,
   "id": "ea2259f3",
   "metadata": {
    "execution": {
     "iopub.execute_input": "2023-02-12T07:51:36.833385Z",
     "iopub.status.busy": "2023-02-12T07:51:36.832905Z",
     "iopub.status.idle": "2023-02-12T07:51:36.839224Z",
     "shell.execute_reply": "2023-02-12T07:51:36.838018Z"
    },
    "papermill": {
     "duration": 0.017186,
     "end_time": "2023-02-12T07:51:36.841997",
     "exception": false,
     "start_time": "2023-02-12T07:51:36.824811",
     "status": "completed"
    },
    "tags": []
   },
   "outputs": [
    {
     "name": "stdout",
     "output_type": "stream",
     "text": [
      "Model Intercept:  24393.17\n"
     ]
    }
   ],
   "source": [
    "intercept = round(model.intercept_, 2)\n",
    "print(\"Model Intercept: \", intercept)"
   ]
  },
  {
   "cell_type": "markdown",
   "id": "ff188e99",
   "metadata": {
    "papermill": {
     "duration": 0.007075,
     "end_time": "2023-02-12T07:51:36.856416",
     "exception": false,
     "start_time": "2023-02-12T07:51:36.849341",
     "status": "completed"
    },
    "tags": []
   },
   "source": [
    "#### Extract Coefficient"
   ]
  },
  {
   "cell_type": "code",
   "execution_count": 71,
   "id": "eb9b6627",
   "metadata": {
    "execution": {
     "iopub.execute_input": "2023-02-12T07:51:36.872395Z",
     "iopub.status.busy": "2023-02-12T07:51:36.871969Z",
     "iopub.status.idle": "2023-02-12T07:51:36.877910Z",
     "shell.execute_reply": "2023-02-12T07:51:36.876830Z"
    },
    "papermill": {
     "duration": 0.016858,
     "end_time": "2023-02-12T07:51:36.880282",
     "exception": false,
     "start_time": "2023-02-12T07:51:36.863424",
     "status": "completed"
    },
    "tags": []
   },
   "outputs": [
    {
     "name": "stdout",
     "output_type": "stream",
     "text": [
      "Coefficient of the Model:  9569.59\n"
     ]
    }
   ],
   "source": [
    "coefficient = round(model.coef_[0], 2)\n",
    "print(\"Coefficient of the Model: \", coefficient)"
   ]
  },
  {
   "cell_type": "markdown",
   "id": "c8ff7af1",
   "metadata": {
    "papermill": {
     "duration": 0.006621,
     "end_time": "2023-02-12T07:51:36.893976",
     "exception": false,
     "start_time": "2023-02-12T07:51:36.887355",
     "status": "completed"
    },
    "tags": []
   },
   "source": [
    "## Linear Regression Equation"
   ]
  },
  {
   "cell_type": "code",
   "execution_count": 72,
   "id": "e6dd1a9f",
   "metadata": {
    "execution": {
     "iopub.execute_input": "2023-02-12T07:51:36.910479Z",
     "iopub.status.busy": "2023-02-12T07:51:36.910069Z",
     "iopub.status.idle": "2023-02-12T07:51:36.916651Z",
     "shell.execute_reply": "2023-02-12T07:51:36.914792Z"
    },
    "papermill": {
     "duration": 0.01984,
     "end_time": "2023-02-12T07:51:36.920797",
     "exception": false,
     "start_time": "2023-02-12T07:51:36.900957",
     "status": "completed"
    },
    "tags": []
   },
   "outputs": [
    {
     "name": "stdout",
     "output_type": "stream",
     "text": [
      "Salary = 24393.17 + 9569.59 * YearsExperience\n"
     ]
    }
   ],
   "source": [
    "print(f\"Salary = {intercept} + {coefficient} * YearsExperience\")"
   ]
  },
  {
   "cell_type": "markdown",
   "id": "05a4341d",
   "metadata": {
    "papermill": {
     "duration": 0.007211,
     "end_time": "2023-02-12T07:51:36.935621",
     "exception": false,
     "start_time": "2023-02-12T07:51:36.928410",
     "status": "completed"
    },
    "tags": []
   },
   "source": [
    "## Model Evaluation"
   ]
  },
  {
   "cell_type": "code",
   "execution_count": 73,
   "id": "9842d78c",
   "metadata": {
    "execution": {
     "iopub.execute_input": "2023-02-12T07:51:36.951647Z",
     "iopub.status.busy": "2023-02-12T07:51:36.951171Z",
     "iopub.status.idle": "2023-02-12T07:51:36.962461Z",
     "shell.execute_reply": "2023-02-12T07:51:36.961086Z"
    },
    "papermill": {
     "duration": 0.022453,
     "end_time": "2023-02-12T07:51:36.965247",
     "exception": false,
     "start_time": "2023-02-12T07:51:36.942794",
     "status": "completed"
    },
    "tags": []
   },
   "outputs": [
    {
     "name": "stdout",
     "output_type": "stream",
     "text": [
      "Score for training data:  0.97\n",
      "Score for testing data:  0.89\n"
     ]
    }
   ],
   "source": [
    "# Evaluation based on score\n",
    "print(\"Score for training data: \", round(model.score(X_train, y_train), 2))\n",
    "print(\"Score for testing data: \", round(model.score(X_test, y_test), 2))"
   ]
  },
  {
   "cell_type": "markdown",
   "id": "04af8268",
   "metadata": {
    "papermill": {
     "duration": 0.006724,
     "end_time": "2023-02-12T07:51:36.979074",
     "exception": false,
     "start_time": "2023-02-12T07:51:36.972350",
     "status": "completed"
    },
    "tags": []
   },
   "source": [
    "### Model Visualization with Training Data"
   ]
  },
  {
   "cell_type": "code",
   "execution_count": 74,
   "id": "537d753e",
   "metadata": {
    "execution": {
     "iopub.execute_input": "2023-02-12T07:51:36.995175Z",
     "iopub.status.busy": "2023-02-12T07:51:36.994720Z",
     "iopub.status.idle": "2023-02-12T07:51:37.203985Z",
     "shell.execute_reply": "2023-02-12T07:51:37.202970Z"
    },
    "papermill": {
     "duration": 0.220141,
     "end_time": "2023-02-12T07:51:37.206362",
     "exception": false,
     "start_time": "2023-02-12T07:51:36.986221",
     "status": "completed"
    },
    "tags": []
   },
   "outputs": [
    {
     "data": {
      "image/png": "[encoded data removed]",
      "text/plain": [
       "<Figure size 640x480 with 1 Axes>"
      ]
     },
     "metadata": {},
     "output_type": "display_data"
    }
   ],
   "source": [
    "plt.scatter(X_train, y_train)\n",
    "plt.plot(X_train, model.predict(X_train), color=\"red\")\n",
    "plt.xlabel(\"Years\")\n",
    "plt.ylabel(\"Salary\")\n",
    "plt.title(\"Salary Data [Training]\");"
   ]
  },
  {
   "cell_type": "markdown",
   "id": "446096af",
   "metadata": {
    "papermill": {
     "duration": 0.007273,
     "end_time": "2023-02-12T07:51:37.221145",
     "exception": false,
     "start_time": "2023-02-12T07:51:37.213872",
     "status": "completed"
    },
    "tags": []
   },
   "source": [
    "### Model Visualization with Test Data"
   ]
  },
  {
   "cell_type": "code",
   "execution_count": 75,
   "id": "65e8b1b1",
   "metadata": {
    "execution": {
     "iopub.execute_input": "2023-02-12T07:51:37.239914Z",
     "iopub.status.busy": "2023-02-12T07:51:37.238782Z",
     "iopub.status.idle": "2023-02-12T07:51:37.396859Z",
     "shell.execute_reply": "2023-02-12T07:51:37.395679Z"
    },
    "papermill": {
     "duration": 0.169784,
     "end_time": "2023-02-12T07:51:37.399354",
     "exception": false,
     "start_time": "2023-02-12T07:51:37.229570",
     "status": "completed"
    },
    "tags": []
   },
   "outputs": [
    {
     "data": {
      "image/png": "[encoded data removed]",
      "text/plain": [
       "<Figure size 640x480 with 1 Axes>"
      ]
     },
     "metadata": {},
     "output_type": "display_data"
    }
   ],
   "source": [
    "plt.scatter(X_test, y_test)\n",
    "plt.plot(X_test, model.predict(X_test), color=\"red\")\n",
    "plt.xlabel(\"Years\")\n",
    "plt.ylabel(\"Salary\")\n",
    "plt.title(\"Salary Data [Testing]\");"
   ]
  },
  {
   "attachments": {},
   "cell_type": "markdown",
   "id": "98b4cc50",
   "metadata": {},
   "source": [
    "# Building Linear Regression model from scratch for one dimension"
   ]
  },
  {
   "cell_type": "code",
   "execution_count": 86,
   "id": "1c76eeec",
   "metadata": {},
   "outputs": [],
   "source": [
    "class LinearModel():\n",
    "    \n",
    "    def __init__(self):\n",
    "        self.m = None\n",
    "        self.b = None\n",
    "    \n",
    "    def fit(self, X_train, y_train):\n",
    "        X_train  = X_train.values # Convert to Numpy array\n",
    "        y_train  = y_train.values # Convert to Numpy array\n",
    "        num = 0\n",
    "        denum = 0\n",
    "        for i in range(X_train.shape[0]):\n",
    "            num = num + ((y_train[i] - y_train.mean()) * (X_train[i] - X_train.mean()))\n",
    "            denum = denum + ((X_train[i] - X_train.mean()) * (X_train[i] - X_train.mean()))\n",
    "        \n",
    "        self.m = num/denum\n",
    "        self.b = y_train.mean() - (self.m * X_train.mean())\n",
    "\n",
    "        print(\"Coefficient is : \", self.m)\n",
    "        print(\"Intercept is : \", self.b)\n",
    "\n",
    "    def predict(self, X_test):\n",
    "        return self.m * X_test + self.b"
   ]
  },
  {
   "cell_type": "code",
   "execution_count": 87,
   "id": "f0b6dfdb",
   "metadata": {},
   "outputs": [],
   "source": [
    "lr = LinearModel()"
   ]
  },
  {
   "cell_type": "code",
   "execution_count": 88,
   "id": "77842c3d",
   "metadata": {},
   "outputs": [
    {
     "name": "stdout",
     "output_type": "stream",
     "text": [
      "Coefficient is :  [9569.58688543]\n",
      "Intercept is :  [24393.16915195]\n"
     ]
    }
   ],
   "source": [
    "lr.fit(X_train, y_train)"
   ]
  },
  {
   "cell_type": "code",
   "execution_count": 108,
   "id": "8de2e33d",
   "metadata": {},
   "outputs": [
    {
     "data": {
      "text/plain": [
       "4078.2596424835115"
      ]
     },
     "execution_count": 108,
     "metadata": {},
     "output_type": "execute_result"
    }
   ],
   "source": [
    "y_pred_train = lr.predict(X_train)\n",
    "mean_absolute_error(y_train, y_pred_train)\n"
   ]
  },
  {
   "cell_type": "code",
   "execution_count": 109,
   "id": "3293b134",
   "metadata": {},
   "outputs": [
    {
     "data": {
      "text/plain": [
       "0.9654753572257188"
      ]
     },
     "execution_count": 109,
     "metadata": {},
     "output_type": "execute_result"
    }
   ],
   "source": [
    "r2_score(y_train, y_pred_train)"
   ]
  },
  {
   "cell_type": "code",
   "execution_count": 89,
   "id": "3c37cbe4",
   "metadata": {},
   "outputs": [
    {
     "data": {
      "text/html": [
       "<div>\n",
       "<style scoped>\n",
       "    .dataframe tbody tr th:only-of-type {\n",
       "        vertical-align: middle;\n",
       "    }\n",
       "\n",
       "    .dataframe tbody tr th {\n",
       "        vertical-align: top;\n",
       "    }\n",
       "\n",
       "    .dataframe thead th {\n",
       "        text-align: right;\n",
       "    }\n",
       "</style>\n",
       "<table border=\"1\" class=\"dataframe\">\n",
       "  <thead>\n",
       "    <tr style=\"text-align: right;\">\n",
       "      <th></th>\n",
       "      <th>YearsExperience</th>\n",
       "    </tr>\n",
       "  </thead>\n",
       "  <tbody>\n",
       "    <tr>\n",
       "      <th>1</th>\n",
       "      <td>36833.632103</td>\n",
       "    </tr>\n",
       "    <tr>\n",
       "      <th>0</th>\n",
       "      <td>34919.714726</td>\n",
       "    </tr>\n",
       "    <tr>\n",
       "      <th>14</th>\n",
       "      <td>67456.310136</td>\n",
       "    </tr>\n",
       "    <tr>\n",
       "      <th>9</th>\n",
       "      <td>59800.640628</td>\n",
       "    </tr>\n",
       "    <tr>\n",
       "      <th>21</th>\n",
       "      <td>92337.236039</td>\n",
       "    </tr>\n",
       "    <tr>\n",
       "      <th>19</th>\n",
       "      <td>81810.690465</td>\n",
       "    </tr>\n",
       "  </tbody>\n",
       "</table>\n",
       "</div>"
      ],
      "text/plain": [
       "    YearsExperience\n",
       "1      36833.632103\n",
       "0      34919.714726\n",
       "14     67456.310136\n",
       "9      59800.640628\n",
       "21     92337.236039\n",
       "19     81810.690465"
      ]
     },
     "execution_count": 89,
     "metadata": {},
     "output_type": "execute_result"
    }
   ],
   "source": [
    "lr.predict(X_test)"
   ]
  },
  {
   "cell_type": "code",
   "execution_count": 99,
   "id": "16b4455e",
   "metadata": {},
   "outputs": [
    {
     "data": {
      "text/plain": [
       "[<matplotlib.lines.Line2D at 0x2057d64f9d0>]"
      ]
     },
     "execution_count": 99,
     "metadata": {},
     "output_type": "execute_result"
    },
    {
     "data": {
      "image/png": "[encoded data removed]",
      "text/plain": [
       "<Figure size 640x480 with 1 Axes>"
      ]
     },
     "metadata": {},
     "output_type": "display_data"
    }
   ],
   "source": [
    "plt.scatter(X_train, y_train)\n",
    "plt.plot(X_train, lr.predict(X_train), color=\"red\")\n"
   ]
  },
  {
   "cell_type": "code",
   "execution_count": 100,
   "id": "246da377",
   "metadata": {},
   "outputs": [
    {
     "data": {
      "text/plain": [
       "[<matplotlib.lines.Line2D at 0x2057cf3a1a0>]"
      ]
     },
     "execution_count": 100,
     "metadata": {},
     "output_type": "execute_result"
    },
    {
     "data": {
      "image/png": "[encoded data removed]",
      "text/plain": [
       "<Figure size 640x480 with 1 Axes>"
      ]
     },
     "metadata": {},
     "output_type": "display_data"
    }
   ],
   "source": [
    "plt.scatter(X_test, y_test)\n",
    "plt.plot(X_test, lr.predict(X_test), color=\"red\")"
   ]
  }
 ],
 "metadata": {
  "kernelspec": {
   "display_name": "Python 3",
   "language": "python",
   "name": "python3"
  },
  "language_info": {
   "codemirror_mode": {
    "name": "ipython",
    "version": 3
   },
   "file_extension": ".py",
   "mimetype": "text/x-python",
   "name": "python",
   "nbconvert_exporter": "python",
   "pygments_lexer": "ipython3",
   "version": "3.10.9"
  },
  "papermill": {
   "default_parameters": {},
   "duration": 12.369345,
   "end_time": "2023-02-12T07:51:38.229597",
   "environment_variables": {},
   "exception": null,
   "input_path": "__notebook__.ipynb",
   "output_path": "__notebook__.ipynb",
   "parameters": {},
   "start_time": "2023-02-12T07:51:25.860252",
   "version": "2.3.4"
  }
 },
 "nbformat": 4,
 "nbformat_minor": 5
}
